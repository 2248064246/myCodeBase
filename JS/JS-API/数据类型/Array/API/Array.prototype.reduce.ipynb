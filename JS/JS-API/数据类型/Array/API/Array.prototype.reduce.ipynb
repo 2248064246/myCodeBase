{
 "cells": [
  {
   "cell_type": "markdown",
   "metadata": {},
   "source": [
    "## Array.prototype.reduce()\n",
    "\n",
    "对数组中的每一个元素执行操作函数, 每一次运行 reducer 会将先前元素的计算结果作为参数传入，最后将其结果汇总为单个返回值。\n",
    "\n",
    "**语法**\n",
    "\n",
    "```js\n",
    "Array.prototype.reduce((preValue, curValue, curIndex, array) => {}, initValue);\n",
    "```\n",
    "\n",
    "- preValue: 前一次调用回调函数得到的返回值\n",
    "- curValue: 当前数组索引值\n",
    "\n",
    "回调函数第一次执行时, `preValue`和`curValue`存在两种情况:\n",
    "\n",
    "- 如果提供了`initValue`, 则`preValue`取值为`initValue`, `curVaule`为数组中的第一个值.\n",
    "- 如果没有提供`initValue`, 则`preValue`取数组第一值, `curValue`取数组第二个值.\n",
    "\n",
    "如果数组为空且未指定初始值, 会抛出`TypeError`\n",
    "\n",
    "`reduce`的循环规则遵从`forEach` `map` 等规则.\n",
    "\n",
    "> 遍历的元素范围是在第一次调用 callbackfn 之前确定的。所以即使有元素在调用开始后被追加到数组中，这些元素也不会被 callbackfn 访问。如果数组现有的元素发生了变化，传递给 callbackfn 的值将会是元素被 reduce 访问时的值（即发生变化后的值）；在调用 reduce 开始后，尚未被访问的元素若被删除，则其将不会被 reduce 访问。\n"
   ]
  },
  {
   "cell_type": "code",
   "execution_count": 1,
   "metadata": {},
   "outputs": [
    {
     "name": "stdout",
     "output_type": "stream",
     "text": [
      "index:  0 value:  1\n",
      "index:  1 value:  2\n",
      "index:  3 value:  5\n",
      "8\n"
     ]
    }
   ],
   "source": [
    "let arr = [1, 2, , 5];\n",
    "\n",
    "arr.reduce((pre, cur, i) => {\n",
    "  console.log('index: ', i, 'value: ', cur);\n",
    "  return pre + cur;\n",
    "}, 0);\n"
   ]
  },
  {
   "cell_type": "markdown",
   "metadata": {},
   "source": [
    "### 无初始值时 `reduce()` 如何云心\n"
   ]
  },
  {
   "cell_type": "code",
   "execution_count": 2,
   "metadata": {},
   "outputs": [
    {
     "name": "stdout",
     "output_type": "stream",
     "text": [
      "previous: 15, current: 16, index: 1, returns: 31\n",
      "previous: 31, current: 17, index: 2, returns: 48\n",
      "previous: 48, current: 18, index: 3, returns: 66\n",
      "previous: 66, current: 19, index: 4, returns: 85\n",
      "85\n"
     ]
    }
   ],
   "source": [
    "const array = [15, 16, 17, 18, 19];\n",
    "\n",
    "function reducer(previous, current, index, array) {\n",
    "  const returns = previous + current;\n",
    "  console.log(\n",
    "    `previous: ${previous}, current: ${current}, index: ${index}, returns: ${returns}`\n",
    "  );\n",
    "  return returns;\n",
    "}\n",
    "\n",
    "array.reduce(reducer);\n"
   ]
  },
  {
   "cell_type": "markdown",
   "metadata": {},
   "source": [
    "### 计算数组中每个元素出现的次数\n"
   ]
  },
  {
   "cell_type": "code",
   "execution_count": 3,
   "metadata": {},
   "outputs": [
    {
     "name": "stdout",
     "output_type": "stream",
     "text": [
      "{ Tom: 2, Jony: 1, Faker: 1, Zues: 1 }\n"
     ]
    }
   ],
   "source": [
    "let names = ['Tom', 'Jony', 'Tom', 'Faker', 'Zues'];\n",
    "\n",
    "let counts = names.reduce((pre, cur) => {\n",
    "  if (cur in pre) {\n",
    "    pre[cur]++;\n",
    "  } else {\n",
    "    pre[cur] = 1;\n",
    "  }\n",
    "  return pre;\n",
    "}, {});\n",
    "\n",
    "console.log(counts);\n"
   ]
  },
  {
   "cell_type": "markdown",
   "metadata": {},
   "source": [
    "### 按照属性对对象分类\n"
   ]
  },
  {
   "cell_type": "code",
   "execution_count": 10,
   "metadata": {},
   "outputs": [
    {
     "name": "stdout",
     "output_type": "stream",
     "text": [
      "{\n",
      "  '18': [ { name: 'Zues', age: 18 }, { name: 'Tom', age: 18 } ],\n",
      "  '26': [ { name: 'Faker', age: 26 } ]\n",
      "}\n"
     ]
    }
   ],
   "source": [
    "let people = [\n",
    "  { name: 'Faker', age: 26 },\n",
    "  { name: 'Zues', age: 18 },\n",
    "  { name: 'Tom', age: 18 },\n",
    "];\n",
    "\n",
    "/**\n",
    " *\n",
    " * @param {Array} objArr\n",
    " * @param {String} prototype\n",
    " */\n",
    "function groupBy(objArr, prototype) {\n",
    "  return objArr.reduce((pre, cur) => {\n",
    "    let key = cur[prototype];\n",
    "    if (!pre[key]) {\n",
    "      pre[key] = [];\n",
    "    }\n",
    "    pre[key].push(cur);\n",
    "    return pre;\n",
    "  }, {});\n",
    "}\n",
    "\n",
    "groupBy(people, 'age');\n"
   ]
  },
  {
   "cell_type": "markdown",
   "metadata": {},
   "source": [
    "### 数组去重\n"
   ]
  },
  {
   "cell_type": "code",
   "execution_count": 11,
   "metadata": {},
   "outputs": [
    {
     "name": "stdout",
     "output_type": "stream",
     "text": [
      "[ 1, 2, 3, 4, 23, 5 ]\n"
     ]
    }
   ],
   "source": [
    "arr = [1, 2, 2, 3, 4, 2, 1, 23, 3, 5, 4];\n",
    "\n",
    "arr.reduce((pre, cur) => {\n",
    "  if (!pre.includes(cur)) {\n",
    "    pre.push(cur);\n",
    "  }\n",
    "  return pre;\n",
    "}, []);\n"
   ]
  },
  {
   "cell_type": "markdown",
   "metadata": {},
   "source": [
    "### 按顺序运行 promise\n"
   ]
  },
  {
   "cell_type": "code",
   "execution_count": null,
   "metadata": {},
   "outputs": [
    {
     "name": "stdout",
     "output_type": "stream",
     "text": [
      "8\n"
     ]
    }
   ],
   "source": [
    "function p1(v) {\n",
    "  return new Promise((resolve) => {\n",
    "    resolve(v * v);\n",
    "  });\n",
    "}\n",
    "\n",
    "function p2(v) {\n",
    "  return new Promise((resolve) => {\n",
    "    resolve(v * 2);\n",
    "  });\n",
    "}\n",
    "\n",
    "/**\n",
    " * 按顺序执行promise, 原理就是将promise连起来\n",
    " * @param {Array} sequence\n",
    " * @param {any} initValue\n",
    " */\n",
    "function runPromiseSequence(sequence, initValue) {\n",
    "  return sequence.reduce((pre, cur) => {\n",
    "    return pre.then(cur);\n",
    "  }, Promise.resolve(initValue));\n",
    "}\n",
    "\n",
    "{\n",
    "  runPromiseSequence([p1, p2], 2).then(console.log);\n",
    "}\n"
   ]
  },
  {
   "cell_type": "markdown",
   "metadata": {},
   "source": [
    "### 使用函数组合实现管道\n"
   ]
  },
  {
   "cell_type": "code",
   "execution_count": 21,
   "metadata": {},
   "outputs": [
    {
     "name": "stdout",
     "output_type": "stream",
     "text": [
      "16\n",
      "4096\n"
     ]
    }
   ],
   "source": [
    "const double = (x) => 2 * x;\n",
    "const square = (x) => x * x;\n",
    "const cube = (x) => square(x) * x;\n",
    "\n",
    "const pipe =\n",
    "  (...funcs) =>\n",
    "  (value) =>\n",
    "    funcs.reduce((pre, cur) => cur(pre), value);\n",
    "\n",
    "let fnA = pipe(double, square);\n",
    "let fnB = pipe(double, square, cube);\n",
    "\n",
    "console.log(fnA(2));\n",
    "\n",
    "console.log(fnB(2));\n"
   ]
  }
 ],
 "metadata": {
  "kernelspec": {
   "display_name": "JavaScript",
   "language": "javascript",
   "name": "jslab"
  },
  "language_info": {
   "file_extension": ".js",
   "mimetype": "text/javascript",
   "name": "javascript",
   "version": ""
  },
  "orig_nbformat": 4
 },
 "nbformat": 4,
 "nbformat_minor": 2
}
