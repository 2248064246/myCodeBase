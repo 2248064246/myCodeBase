{
 "cells": [
  {
   "cell_type": "markdown",
   "metadata": {},
   "source": [
    "## **Array.prototype.at()**\n",
    "\n",
    "获取指定索引位置的元素\n",
    "\n",
    "**语法**\n",
    "\n",
    "```ts\n",
    "Array.prototype.at(idx);\n",
    "```\n",
    "\n",
    "`idx` 允许负值. 当`idx`小于 0 时, 将访问索引`index + array.length`.\n",
    "\n",
    "`idx` 小于 0, 且绝对值大于`array.length`时, 不会从索引`0`开始.\n",
    "\n",
    "`at()` 方法是通用的, 可以用于`类数组`. (其仅期望 this 具有 length 属性和以整数为键的属性。)"
   ]
  },
  {
   "cell_type": "code",
   "execution_count": 1,
   "metadata": {},
   "outputs": [
    {
     "name": "stdout",
     "output_type": "stream",
     "text": [
      "undefined\n",
      "undefined\n",
      "3\n"
     ]
    }
   ],
   "source": [
    "let aa = {0: 0, 1: 1, 3: 3, length: 3}\n",
    "\n",
    "// 需要注意 idx 和 length 相关, 超出 length 不会获取\n",
    "console.log(Array.prototype.at.call(aa, 2)) // => undefined\n",
    "console.log(Array.prototype.at.call(aa, 3)) // => undefined\n",
    "\n",
    "// 如果增加 length\n",
    "aa.length = 4;\n",
    "// 现在能够获取到对应数据\n",
    "console.log(Array.prototype.at.call(aa, 3)) // => 3"
   ]
  }
 ],
 "metadata": {
  "kernelspec": {
   "display_name": "JavaScript (Node.js)",
   "language": "javascript",
   "name": "javascript"
  },
  "language_info": {
   "file_extension": ".js",
   "mimetype": "application/javascript",
   "name": "javascript",
   "version": "16.10.0"
  },
  "orig_nbformat": 4
 },
 "nbformat": 4,
 "nbformat_minor": 2
}
