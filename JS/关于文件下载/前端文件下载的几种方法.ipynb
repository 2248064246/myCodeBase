{
 "cells": [
  {
   "cell_type": "markdown",
   "metadata": {},
   "source": [
    "# 前端文件下载的几种方法\n",
    "\n",
    "## 表单下载\n",
    "\n",
    "通过提交表单形式可以达到下载后台返回的文件的效果, 同时适用于 `get` 和 `post` 方法\n",
    "\n",
    "## a 标签下载 和 window.open 下载\n",
    "\n",
    "这两类现在都需要给定的链接能够指向某个具体文件\n",
    "\n",
    "## 通过 Blob 结合 a 标签 下载\n",
    "\n",
    "这种适用于文件是后台根据数据动态生成的情况\n",
    "\n",
    "[值得借鉴](https://blog.csdn.net/ljy123w/article/details/123438648)\n",
    "\n",
    "## 实现\n",
    "\n",
    "### 普通下载\n",
    "\n",
    "需要注意的是, 这种下载需要响应头 `content-type: application/octet-stream` 或者是一种文件类型的 MIME\n",
    "\n",
    "否则不会下载, 如果是 `application/json` `application/javascript` 这种则会直接在浏览器打开\n",
    "\n",
    "同时这种 url 还应该返回 `content-length` 指明文件大小\n"
   ]
  },
  {
   "cell_type": "code",
   "execution_count": null,
   "metadata": {
    "vscode": {
     "languageId": "javascript"
    }
   },
   "outputs": [],
   "source": [
    "/**\n",
    " * 通过 a 标签实现下载文件\n",
    " * 需要一个指向目标文件的 url\n",
    " * @param {string} url 一个指向文件地址的 url\n",
    " */\n",
    "function downloadWithATag(url) {\n",
    "  let elink = document.createElement('a');\n",
    "  elink.href = url;\n",
    "  elink.click();\n",
    "  elink = undefined;\n",
    "}\n",
    "\n",
    "/**\n",
    " * 这种方式和 上面下载原理相同\n",
    " * 只是会新开一个窗口, 并且在下载后关闭这个窗口\n",
    " * @param url\n",
    " */\n",
    "function downloadWithWindowOpen(url) {\n",
    "  window.open(url, '__blank');\n",
    "}\n"
   ]
  },
  {
   "cell_type": "markdown",
   "metadata": {},
   "source": [
    "### 通过接口动态下载\n"
   ]
  },
  {
   "cell_type": "code",
   "execution_count": null,
   "metadata": {
    "vscode": {
     "languageId": "javascript"
    }
   },
   "outputs": [],
   "source": [
    "import URI from 'urijs';\n",
    "\n",
    "function downloadWithXHR(url, method = 'GET', params) {\n",
    "  url = new URI(url);\n",
    "  let xhr = new XMLHttpRequest();\n",
    "  xhr.open(method, url);\n",
    "  xhr.responseType = 'blob';\n",
    "  xhr.onload = function () {\n",
    "    if (this.status === 200 || this.status === 304) {\n",
    "      let fileReader = new FileReader();\n",
    "\n",
    "      fileReader.onload = function () {\n",
    "        /* 返回的是json数据, 说明报错 */\n",
    "        if (\n",
    "          xhr.getResponseHeader('content-type').includes('application/json')\n",
    "        ) {\n",
    "          let data = JSON.parse(this.result);\n",
    "          alert(data.message || '');\n",
    "        } else {\n",
    "          let disposition = xhr.getResponseHeader('content-disposition');\n",
    "          let filename = disposition.split(';')[1].split('=')[1];\n",
    "          filename = decodeURIComponent(filename);\n",
    "\n",
    "          let elink = document.createElement('a');\n",
    "          elink.download = filename;\n",
    "          elink.style.display = 'none';\n",
    "          elink.href = URL.createObjectURL(xhr.response);\n",
    "          elink.click();\n",
    "          URL.revokeObjectURL(elink.href); // 释放URL 对象\n",
    "          elink = undefined;\n",
    "        }\n",
    "      };\n",
    "      fileReader.readAsText(this.response);\n",
    "    }else {\n",
    "      alert('接口失败')\n",
    "    }\n",
    "  };\n",
    "  switch (method) {\n",
    "    case 'GET':\n",
    "      // 使用 URI 库处理 请求参数\n",
    "      url.addSearch(params);\n",
    "      xhr.send();\n",
    "      break;\n",
    "\n",
    "    case 'POST':\n",
    "      // 这里具体取决于发送要发什么什么类型数据\n",
    "      xhr.send(JSON.stringify(params));\n",
    "      break;\n",
    "  }\n",
    "}\n"
   ]
  }
 ],
 "metadata": {
  "language_info": {
   "name": "python"
  },
  "orig_nbformat": 4
 },
 "nbformat": 4,
 "nbformat_minor": 2
}
