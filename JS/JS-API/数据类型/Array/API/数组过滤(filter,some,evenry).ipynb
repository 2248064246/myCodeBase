{
 "cells": [
  {
   "cell_type": "markdown",
   "metadata": {},
   "source": [
    "# 数组过滤\n",
    "[toc]"
   ]
  },
  {
   "cell_type": "markdown",
   "metadata": {},
   "source": [
    "## Arrary.prototype.filter()\n",
    "\n",
    "查找出所有符合过滤函数要求的值, 返回一个数组. 没有知道任何元素, 返回空数组.\n",
    "\n",
    "**语法**\n",
    "\n",
    "```js\n",
    "Array.prototype.filter((value, index, array) => boolean);\n",
    "```\n",
    "\n",
    "**需要注意: filter() 只会查找已经被赋值的索引, 对于那些已经被删除或从未被赋值的索引不会被调用**\n",
    "\n",
    "**同时和 `find()` 一样, 在第一次调用`回调函数`时会去顶元素的索引范围**\n"
   ]
  },
  {
   "cell_type": "code",
   "execution_count": 5,
   "metadata": {},
   "outputs": [
    {
     "name": "stdout",
     "output_type": "stream",
     "text": [
      "index:  0 value:  1\n",
      "index:  1 value:  2\n",
      "index:  4 value:  5\n",
      "[]\n"
     ]
    }
   ],
   "source": [
    "let arr = [1, 2, , , 5];\n",
    "\n",
    "arr.filter((v, i) => {\n",
    "  console.log('index: ', i, 'value: ', v);\n",
    "});\n"
   ]
  },
  {
   "cell_type": "markdown",
   "metadata": {},
   "source": [
    "在回调开始执行之后`添加的元素`不会被访问, 被`删除的元素`仍旧会被访问到，但是其值已经是 undefined 了。"
   ]
  },
  {
   "cell_type": "code",
   "execution_count": 6,
   "metadata": {},
   "outputs": [
    {
     "name": "stdout",
     "output_type": "stream",
     "text": [
      "index:  0 value:  1\n",
      "index:  1 value:  2\n",
      "index:  4 value:  5\n",
      "[]\n"
     ]
    }
   ],
   "source": [
    "arr.filter((v, i) => {\n",
    "  if(i == 0) {\n",
    "    arr.push(6)\n",
    "  }\n",
    "  console.log('index: ', i, 'value: ', v);\n",
    "});"
   ]
  },
  {
   "cell_type": "markdown",
   "metadata": {},
   "source": [
    "## Array.prototype.some()\n",
    "\n",
    "判断数组中是否至少有一个元素通过测试函数, 返回一个 boolean 值.\n",
    "\n",
    "有一个元素通过返回`true`\n",
    "\n",
    "没有元素通过返回`false`\n",
    "\n",
    "**语法**\n",
    "\n",
    "```js\n",
    "Array.prototype.some((value, index, arr) => boolean);\n",
    "```\n",
    "\n",
    "**它的循环条件和`filter()`一致**\n",
    "\n",
    "**特别注意: 对空数组使用`some()` 返回`false`**"
   ]
  },
  {
   "cell_type": "code",
   "execution_count": 8,
   "metadata": {},
   "outputs": [
    {
     "name": "stdout",
     "output_type": "stream",
     "text": [
      "index:  0 value:  1\n",
      "index:  1 value:  2\n",
      "index:  3 value:  undefined\n",
      "index:  4 value:  4\n",
      "false\n"
     ]
    }
   ],
   "source": [
    "arr = [1, 2, , undefined, 4];\n",
    "\n",
    "arr.some((v, i) => {\n",
    "  console.log('index: ', i, 'value: ', v);\n",
    "});\n"
   ]
  },
  {
   "cell_type": "markdown",
   "metadata": {},
   "source": [
    "## Array.prototype.every()\n",
    "\n",
    "判断数组中是否所有元素都满足测试函数, 全部满足返回`true`, 否则返回`false`\n",
    "\n",
    "循环条件和`some()`一致\n",
    "\n",
    "**特别注意: 对一个空数组使用`every()`会返回`true`**\n"
   ]
  }
 ],
 "metadata": {
  "kernelspec": {
   "display_name": "JavaScript",
   "language": "javascript",
   "name": "jslab"
  },
  "language_info": {
   "file_extension": ".js",
   "mimetype": "text/javascript",
   "name": "javascript",
   "version": ""
  },
  "orig_nbformat": 4
 },
 "nbformat": 4,
 "nbformat_minor": 2
}
