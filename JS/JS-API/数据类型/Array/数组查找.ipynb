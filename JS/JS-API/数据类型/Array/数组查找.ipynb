{
 "cells": [
  {
   "cell_type": "markdown",
   "metadata": {},
   "source": [
    "# 数组查找"
   ]
  },
  {
   "cell_type": "markdown",
   "metadata": {},
   "source": [
    "## **Array.prototype.at()**\n",
    "\n",
    "获取指定索引位置的元素, 没有找到返回 `undefined`\n",
    "\n",
    "**语法**\n",
    "\n",
    "```ts\n",
    "Array.prototype.at(idx);\n",
    "```\n",
    "\n",
    "`idx` 允许负值. 当`idx`小于 0 时, 将访问索引`index + array.length`.\n",
    "\n",
    "`idx` 小于 0, 且绝对值大于`array.length`时, 不会从索引`0`开始.\n",
    "\n",
    "`at()` 方法是通用的, 可以用于`类数组`. (其仅期望 this 具有 length 属性和以整数为键的属性。)"
   ]
  },
  {
   "cell_type": "code",
   "execution_count": 1,
   "metadata": {},
   "outputs": [
    {
     "name": "stdout",
     "output_type": "stream",
     "text": [
      "undefined\n",
      "undefined\n",
      "3\n"
     ]
    }
   ],
   "source": [
    "let aa = { 0: 0, 1: 1, 3: 3, length: 3 };\n",
    "\n",
    "// 需要注意 idx 和 length 相关, 超出 length 不会获取\n",
    "console.log(Array.prototype.at.call(aa, 2)); // => undefined\n",
    "\n",
    "console.log(Array.prototype.at.call(aa, 3)); // => undefined\n",
    "\n",
    "// 如果增加 length\n",
    "aa.length = 4;\n",
    "// 现在能够获取到对应数据\n",
    "\n",
    "console.log(Array.prototype.at.call(aa, 3)); // => 3\n"
   ]
  },
  {
   "cell_type": "markdown",
   "metadata": {},
   "source": [
    "## **Array.prototype.includes()**\n",
    "\n",
    "判断一个元素是否存在于数组中.\n",
    "\n",
    "**语法**\n",
    "\n",
    "```js\n",
    "  Array.prototype.includes(searchEle[, fromIndex])\n",
    "```"
   ]
  },
  {
   "cell_type": "markdown",
   "metadata": {},
   "source": [
    "## **Arrary.prototype.indexOf()**\n",
    "\n",
    "返回指定元素第一次出现的索引, 没有找到返回`-1`.\n",
    "\n",
    "> **使用`===`判断是否元素是否相等**\n",
    "\n",
    "**语法**\n",
    "\n",
    "```js\n",
    "  Array.prototype.indexOf(searchElement[, fromIndex]);\n",
    "```\n",
    "\n",
    "`fromIndex`: 指定开始查找的位置; 可以为负数, 表示从后面开始查找, 此时等同`array.length + fromIndex`.\n"
   ]
  },
  {
   "cell_type": "markdown",
   "metadata": {},
   "source": [
    "## **Array.prototype.lastIndexOf()**\n",
    "\n",
    "返回指定元素最后出现的索引, 其余和`indexOf()`一致\n"
   ]
  },
  {
   "cell_type": "markdown",
   "metadata": {},
   "source": [
    "## **Array.prototype.find()**\n",
    "\n",
    "返回满足测试函数的第一个元素的值, 没有返回`undefined`\n",
    "\n",
    "**语法**\n",
    "\n",
    "```js\n",
    "  Array.prototype.find((value, index, array) => boolean);\n",
    "```\n",
    "\n"
   ]
  },
  {
   "cell_type": "markdown",
   "metadata": {},
   "source": [
    "`find()`会查找数组中的每一索引, 而不是那些只被赋值的索引"
   ]
  },
  {
   "cell_type": "code",
   "execution_count": 3,
   "metadata": {},
   "outputs": [
    {
     "name": "stdout",
     "output_type": "stream",
     "text": [
      "index:  0 value:  1\n",
      "index:  1 value:  2\n",
      "index:  2 value:  undefined\n",
      "index:  3 value:  undefined\n",
      "index:  4 value:  5\n",
      "index:  5 value:  6\n"
     ]
    }
   ],
   "source": [
    "let arr3 = [1, 2, , , 5, 6];\n",
    "\n",
    "arr3.find((v, i) => console.log('index: ', i, 'value: ', v));"
   ]
  },
  {
   "cell_type": "code",
   "execution_count": 4,
   "metadata": {},
   "outputs": [
    {
     "name": "stdout",
     "output_type": "stream",
     "text": [
      "index:  0 value:  1\n",
      "index:  1 value:  undefined\n",
      "index:  2 value:  undefined\n",
      "index:  3 value:  undefined\n",
      "index:  4 value:  5\n",
      "index:  5 value:  6\n"
     ]
    }
   ],
   "source": [
    "arr3.find((v, i) => {\n",
    "  if (i == 0) {\n",
    "    delete arr3[1];\n",
    "  }\n",
    "  console.log('index: ', i, 'value: ', v);\n",
    "});"
   ]
  },
  {
   "cell_type": "markdown",
   "metadata": {},
   "source": [
    "在第一次调用`callbackFn`函数时会确定元素的索引范围, 所以在回调开始执行之后`添加的元素`不会被访问, 被`删除的元素`仍旧会被访问到，但是其值已经是 undefined 了。"
   ]
  },
  {
   "cell_type": "code",
   "execution_count": 5,
   "metadata": {},
   "outputs": [
    {
     "name": "stdout",
     "output_type": "stream",
     "text": [
      "index:  0 value:  1\n",
      "index:  1 value:  undefined\n",
      "index:  2 value:  undefined\n",
      "index:  3 value:  undefined\n",
      "index:  4 value:  6\n",
      "index:  5 value:  undefined\n"
     ]
    }
   ],
   "source": [
    "arr3.find((v, i) => {\n",
    "  if (i == 0) {\n",
    "    arr3.splice(4, 1)\n",
    "  }\n",
    "  console.log('index: ', i, 'value: ', v);\n",
    "});"
   ]
  },
  {
   "cell_type": "markdown",
   "metadata": {},
   "source": [
    "## **Array.prototype.findLast()**\n",
    "\n",
    "返回最后一个匹配元素的值, 没有返回`undefined`"
   ]
  },
  {
   "cell_type": "markdown",
   "metadata": {},
   "source": [
    "## **Array.prototype.findIndex()**\n",
    "\n",
    "返回第一个匹配元素的索引, 没有返回`-1`"
   ]
  },
  {
   "cell_type": "markdown",
   "metadata": {},
   "source": [
    "## **Array.prototype.findLastIndex()**\n",
    "\n",
    "返回最后一个匹配元素的索引, 没有返回`-1`"
   ]
  }
 ],
 "metadata": {
  "kernelspec": {
   "display_name": "JavaScript (Node.js)",
   "language": "javascript",
   "name": "javascript"
  },
  "language_info": {
   "file_extension": ".js",
   "mimetype": "application/javascript",
   "name": "javascript",
   "version": "16.10.0"
  },
  "orig_nbformat": 4
 },
 "nbformat": 4,
 "nbformat_minor": 2
}
