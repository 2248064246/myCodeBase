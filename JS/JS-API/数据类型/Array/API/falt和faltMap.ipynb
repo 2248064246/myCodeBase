{
 "cells": [
  {
   "cell_type": "markdown",
   "metadata": {},
   "source": [
    "## flat\n",
    "\n",
    "数组扁平化方法, 可以指定扁平化深度, 默认 1\n",
    "\n",
    "\n",
    "**注意:**\n",
    "+ `flat()` 会去除没有值的数组空位  \n",
    "+ `flat()` 可以作用于类数组, 但是只有当前`this`会被转为数组\n"
   ]
  },
  {
   "cell_type": "markdown",
   "metadata": {},
   "source": [
    "作用于稀疏数组"
   ]
  },
  {
   "cell_type": "code",
   "execution_count": 1,
   "metadata": {},
   "outputs": [
    {
     "name": "stdout",
     "output_type": "stream",
     "text": [
      "[ 1, 2, 4 ]\n"
     ]
    }
   ],
   "source": [
    "let arr = [1, 2, , 4];\n",
    "\n",
    "arr.flat(); // => [ 1, 2, 4 ]"
   ]
  },
  {
   "cell_type": "markdown",
   "metadata": {},
   "source": [
    "作用于类数组\n",
    "\n",
    "> 只能处理传入的 `this` 所代表的类数组, 里面嵌套的类数组无法处理\n"
   ]
  },
  {
   "cell_type": "code",
   "execution_count": 4,
   "metadata": {},
   "outputs": [
    {
     "name": "stdout",
     "output_type": "stream",
     "text": [
      "[ 0, { '0': 1, '1': 2, length: 2 }, 3 ]\n"
     ]
    }
   ],
   "source": [
    "let arryLike = {\n",
    "  length: 3,\n",
    "  0: 0,\n",
    "  // 这个类数组会原样返回\n",
    "  1: { length: 2, 0: 1, 1: 2 },\n",
    "  2: 3,\n",
    "};\n",
    "\n",
    "Array.prototype.flat.call(arryLike, 2);"
   ]
  },
  {
   "cell_type": "markdown",
   "metadata": {},
   "source": [
    "### flat 替代方法"
   ]
  },
  {
   "cell_type": "code",
   "execution_count": 19,
   "metadata": {},
   "outputs": [
    {
     "name": "stdout",
     "output_type": "stream",
     "text": [
      "[ 1, 2, 3, 4, [ 5 ] ]\n"
     ]
    }
   ],
   "source": [
    "/**\n",
    " * reduce + concat + recursivity\n",
    " * @param {Array} arr\n",
    " * @param {Number} deep\n",
    " */\n",
    "const flatDeep = (arr, deep = 1) => {\n",
    "  if (deep > 0) {\n",
    "    return arr.reduce((pre, cur) => {\n",
    "      if (Array.isArray(cur)) {\n",
    "        cur = flatDeep(cur, deep - 1);\n",
    "      }\n",
    "      return pre.concat(cur);\n",
    "    }, []);\n",
    "  } else {\n",
    "    return arr.slice();\n",
    "  }\n",
    "};\n",
    "\n",
    "let arr2 = [1, [2, [3, [4, [5]]]]];\n",
    "\n",
    "console.log(flatDeep(arr2, 3));\n"
   ]
  },
  {
   "cell_type": "code",
   "execution_count": 22,
   "metadata": {},
   "outputs": [
    {
     "name": "stdout",
     "output_type": "stream",
     "text": [
      "[ 1, 2, 3, 4, 5 ]\n"
     ]
    }
   ],
   "source": [
    "/**\n",
    " * 使用栈来实现flat, 无法设置flat深度(这里设置deep时困难的)\n",
    " * @param {Array} arr\n",
    " * @returns\n",
    " */\n",
    "const flatDeep = (arr) => {\n",
    "  let copy = [...arr];\n",
    "  let res = [];\n",
    "\n",
    "  while (copy.length) {\n",
    "    let val = copy.shift();\n",
    "    if (Array.isArray(val)) {\n",
    "      copy.unshift(...val);\n",
    "    } else {\n",
    "      res.push(val);\n",
    "    }\n",
    "  }\n",
    "  return res;\n",
    "};\n",
    "\n",
    "let arr3 = [1, [2, [3, [4, [5]]]]];\n",
    "console.log(flatDeep(arr3));\n"
   ]
  },
  {
   "cell_type": "code",
   "execution_count": 31,
   "metadata": {},
   "outputs": [
    {
     "name": "stdout",
     "output_type": "stream",
     "text": [
      "[ 1, 2, 3, [ 4, [ 5 ] ] ]\n"
     ]
    }
   ],
   "source": [
    "/**\n",
    " * 使用 Generator 实现 flat\n",
    " * @param arr\n",
    " * @param deep\n",
    " */\n",
    "function* flatDeep(arr, deep = 1) {\n",
    "  for (const val of arr) {\n",
    "    if (Array.isArray(val) && deep > 0) {\n",
    "      // 这里很重要, yield 后面可以通过 * 调用 generator 函数\n",
    "      yield* flatDeep(val, deep - 1);\n",
    "    } else {\n",
    "      yield val;\n",
    "    }\n",
    "  }\n",
    "}\n",
    "\n",
    "let arr4 = [1, [2, [3, [4, [5]]]]];\n",
    "\n",
    "console.log([...flatDeep(arr4, 2)]);\n"
   ]
  },
  {
   "cell_type": "markdown",
   "metadata": {},
   "source": [
    "## flatMap\n",
    "\n",
    "相当于 `arrary.map().flat(1)`\n",
    "\n"
   ]
  }
 ],
 "metadata": {
  "kernelspec": {
   "display_name": "JavaScript",
   "language": "javascript",
   "name": "jslab"
  },
  "language_info": {
   "file_extension": ".js",
   "mimetype": "text/javascript",
   "name": "javascript",
   "version": ""
  },
  "orig_nbformat": 4
 },
 "nbformat": 4,
 "nbformat_minor": 2
}
