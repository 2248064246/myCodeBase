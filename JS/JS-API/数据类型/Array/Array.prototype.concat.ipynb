{
 "cells": [
  {
   "cell_type": "markdown",
   "metadata": {},
   "source": [
    "## **Array.prototype.concat()**\n",
    "\n",
    "合并数组(不会去重), 返回一个新数组, **不会更改原有数组**.\n",
    "\n",
    "如果没有传入值, 则会返回当前数组的一个浅拷贝.\n",
    "\n",
    "**语法**\n",
    "\n",
    "**`Array.prototype.concat(value[, value1...valueN])`**\n",
    "\n",
    "`value`可以是数组,也可以是普通值\n",
    "\n",
    "\n",
    "**使用 `Symbol.isConcatSpreadable` 合并类数组**\n",
    "\n",
    "concat 会在类数组的 `Symbol.isConcatSpreadable` 为`true`时将其视为数组来处理"
   ]
  },
  {
   "cell_type": "code",
   "execution_count": 3,
   "metadata": {},
   "outputs": [
    {
     "name": "stdout",
     "output_type": "stream",
     "text": [
      "[ { '0': 0, '1': 1, '2': 2, length: 3 }, 0, 1, 2 ]\n"
     ]
    }
   ],
   "source": [
    "const obj1 = {0:0, 1: 1, 2:2, length: 3};\n",
    "const obj2 = {0:0, 1: 1, 2:2, length: 3, [Symbol.isConcatSpreadable]: true};\n",
    "\n",
    "console.log([].concat(obj1, obj2)) // => [{0:0, 1: 1, 2:2, length: 3}, 0,1,2]"
   ]
  }
 ],
 "metadata": {
  "kernelspec": {
   "display_name": "JavaScript",
   "language": "javascript",
   "name": "jslab"
  },
  "language_info": {
   "file_extension": ".js",
   "mimetype": "text/javascript",
   "name": "javascript",
   "version": ""
  },
  "orig_nbformat": 4
 },
 "nbformat": 4,
 "nbformat_minor": 2
}
