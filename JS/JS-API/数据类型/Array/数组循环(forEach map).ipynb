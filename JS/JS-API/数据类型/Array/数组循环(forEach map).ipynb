{
 "cells": [
  {
   "cell_type": "markdown",
   "metadata": {},
   "source": [
    "# 数组循环"
   ]
  },
  {
   "cell_type": "markdown",
   "metadata": {},
   "source": [
    "## Array.prototype.forEach()\n",
    "\n",
    "对数组中的每个元素执行一次给定函数\n",
    "\n",
    "`forEach()`方法按升序为数组中含有效值的每一项执行一次 `callbackFn` 函数，那些已删除或者未初始化的项将被跳过\n",
    "\n",
    "**遍历范围在第一次调用`callbackFn`前被确定, 后续添加的值不会被访问**\n",
    "\n",
    "**已删除的项不会被遍历(跳过空值)**\n"
   ]
  },
  {
   "cell_type": "markdown",
   "metadata": {},
   "source": [
    "备注: 除了抛出异常之外, 没有方法可以终止或者跳出`forEach`循环. 如果需要中止或者跳出循环, 请使用:\n",
    "   + for循环\n",
    "   + for...of/for..in"
   ]
  },
  {
   "cell_type": "code",
   "execution_count": 1,
   "metadata": {},
   "outputs": [
    {
     "name": "stdout",
     "output_type": "stream",
     "text": [
      "index:  0 value:  1\n",
      "index:  1 value:  2\n",
      "index:  4 value:  5\n"
     ]
    }
   ],
   "source": [
    "let arr = [1, 2, , , 5];\n",
    "\n",
    "arr.forEach((v, i) => {\n",
    "  console.log('index: ', i, 'value: ', v);\n",
    "});\n"
   ]
  },
  {
   "cell_type": "markdown",
   "metadata": {},
   "source": [
    "使用`shift()`删除第一个, 导致数组前移, 跳过了`three`的遍历"
   ]
  },
  {
   "cell_type": "code",
   "execution_count": 5,
   "metadata": {},
   "outputs": [
    {
     "name": "stdout",
     "output_type": "stream",
     "text": [
      "index:  0 value:  one\n",
      "index:  1 value:  two\n",
      "index:  2 value:  four\n"
     ]
    }
   ],
   "source": [
    "const words = ['one', 'two', 'three', 'four'];\n",
    "words.forEach((v, i) => {\n",
    "  console.log('index: ', i, 'value: ', v);\n",
    "  if (v === 'two') {\n",
    "    words.shift(); //'one' 将从数组中删除\n",
    "  }\n",
    "}); // one // two // four\n"
   ]
  },
  {
   "cell_type": "markdown",
   "metadata": {},
   "source": [
    "## Array.prototype.map()\n",
    "\n",
    "通过给每一个元素调用执行函数来生成一个新函数.\n",
    "\n",
    "`map()`的执行规则和`forEach`一致\n",
    "\n",
    "**但是有一点不同: 根据规范中定义的算法，如果被 map 调用的数组是离散的，新数组将也是离散的, 并保持相同的索引为空。**"
   ]
  },
  {
   "cell_type": "code",
   "execution_count": 8,
   "metadata": {},
   "outputs": [
    {
     "name": "stdout",
     "output_type": "stream",
     "text": [
      "index:  0 value:  1\n",
      "index:  1 value:  2\n",
      "index:  4 value:  5\n",
      "[ 1, 4, <2 empty items>, 25 ]\n"
     ]
    }
   ],
   "source": [
    "arr = [1, 2, , , 5];\n",
    "\n",
    "let newArr = arr.map((v, i) => {\n",
    "  console.log('index: ', i, 'value: ', v);\n",
    "  return v * v;\n",
    "});\n",
    "\n",
    "/* 新数组将保持空位 */\n",
    "console.log(newArr)\n"
   ]
  }
 ],
 "metadata": {
  "kernelspec": {
   "display_name": "JavaScript",
   "language": "javascript",
   "name": "jslab"
  },
  "language_info": {
   "file_extension": ".js",
   "mimetype": "text/javascript",
   "name": "javascript",
   "version": ""
  },
  "orig_nbformat": 4
 },
 "nbformat": 4,
 "nbformat_minor": 2
}
