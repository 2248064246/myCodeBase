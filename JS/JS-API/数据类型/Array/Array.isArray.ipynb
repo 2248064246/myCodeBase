{
 "cells": [
  {
   "cell_type": "markdown",
   "metadata": {},
   "source": [
    "## **Array.isArray()**\n",
    "\n",
    "判断给定的值是否是一个数组(仅限 Array, TypeArray 返回 false)\n",
    "\n",
    "**语法**\n",
    "\n",
    "```ts\n",
    "Array.isArray(value:any):boolean\n",
    "```"
   ]
  },
  {
   "cell_type": "code",
   "execution_count": 2,
   "metadata": {},
   "outputs": [
    {
     "name": "stdout",
     "output_type": "stream",
     "text": [
      "true\n",
      "true\n"
     ]
    }
   ],
   "source": [
    "console.log(Array.isArray([])); // true\n",
    "// 鲜为人知的事实：其实 Array.prototype 也是一个数组。\n",
    "console.log(Array.isArray(Array.prototype)); // true"
   ]
  }
 ],
 "metadata": {
  "kernelspec": {
   "display_name": "JavaScript",
   "language": "javascript",
   "name": "jslab"
  },
  "language_info": {
   "file_extension": ".js",
   "mimetype": "text/javascript",
   "name": "javascript",
   "version": ""
  },
  "orig_nbformat": 4
 },
 "nbformat": 4,
 "nbformat_minor": 2
}
