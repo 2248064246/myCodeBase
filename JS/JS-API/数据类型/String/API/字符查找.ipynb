{
 "cells": [
  {
   "cell_type": "markdown",
   "metadata": {},
   "source": [
    "# 字符查找\n",
    "\n",
    "+ indexOf()\n",
    "+ lastIndexOf()\n",
    "+ at()\n",
    "+ charAt()\n",
    "+ includes()\n",
    "+ search()\n",
    "+ startWidth()\n",
    "+ endWidth()"
   ]
  },
  {
   "cell_type": "markdown",
   "metadata": {},
   "source": [
    "`at()` 和 `charAt()` 区别只在于`at()` 参数可以接受负数"
   ]
  },
  {
   "cell_type": "markdown",
   "metadata": {},
   "source": [
    "## String.prototype.search()\n",
    "\n",
    "传入正则表达式搜索字符串, 返回第一个匹配字符的索引\n"
   ]
  },
  {
   "cell_type": "code",
   "execution_count": 9,
   "metadata": {},
   "outputs": [
    {
     "name": "stdout",
     "output_type": "stream",
     "text": [
      "6\n",
      "0\n"
     ]
    }
   ],
   "source": [
    "let str = 'hello WORLD';\n",
    "\n",
    "let upper = /[A-Z]/;\n",
    "let lower = /[a-z]/;\n",
    "\n",
    "console.log(str.search(upper));\n",
    "\n",
    "console.log(str.search(lower));\n"
   ]
  },
  {
   "cell_type": "markdown",
   "metadata": {},
   "source": [
    "## String.prototype.startWidth()\n",
    "\n",
    "判断字符串是否以某字符串开头\n",
    "\n",
    "**语法**\n",
    "\n",
    "```js\n",
    "  String.prototyped.startWidth(searchStr[, position])\n",
    "```\n",
    "\n",
    "`position` 表示搜索的开始位置"
   ]
  },
  {
   "cell_type": "markdown",
   "metadata": {},
   "source": [
    "## String.prototype.endWidth()\n",
    "\n",
    "判断字符串是否以某字符串结尾\n",
    "\n",
    "**语法**\n",
    "\n",
    "```js\n",
    "  String.prototype.endWidth(searchStr[, position])\n",
    "```\n",
    "\n",
    "`position` 表示搜索的结束位置\n"
   ]
  },
  {
   "cell_type": "code",
   "execution_count": 10,
   "metadata": {},
   "outputs": [
    {
     "name": "stdout",
     "output_type": "stream",
     "text": [
      "true\n",
      "true\n"
     ]
    }
   ],
   "source": [
    "let strf = 'hello world';\n",
    "\n",
    "console.log(strf.endsWith('ld')); // => true\n",
    "\n",
    "console.log(strf.endsWith('lo', 5)); // => true\n"
   ]
  }
 ],
 "metadata": {
  "kernelspec": {
   "display_name": "JavaScript",
   "language": "javascript",
   "name": "jslab"
  },
  "language_info": {
   "file_extension": ".js",
   "mimetype": "text/javascript",
   "name": "javascript",
   "version": ""
  },
  "orig_nbformat": 4
 },
 "nbformat": 4,
 "nbformat_minor": 2
}
