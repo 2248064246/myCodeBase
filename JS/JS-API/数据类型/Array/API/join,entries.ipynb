{
 "cells": [
  {
   "cell_type": "markdown",
   "metadata": {},
   "source": [
    "## join()\n",
    "\n",
    "**注意:**\n",
    "+ 会将 `undefined`, `null` 转为`空字符`\n",
    "+ `join`会在内部调用 `toString()`, 如果改变一个数组实例的 `join`方法, 也会更改`toString()` 行为\n",
    "+ 稀疏数组的空位将会转为`空字符`\n",
    "+ `join` 方法是通用的, 它只期望一个拥有`length`属性的对象"
   ]
  },
  {
   "cell_type": "code",
   "execution_count": 2,
   "metadata": {},
   "outputs": [
    {
     "name": "stdout",
     "output_type": "stream",
     "text": [
      "1,,3\n",
      "1,,,3\n"
     ]
    }
   ],
   "source": [
    "let a = [1, , 3];\n",
    "\n",
    "console.log(a.join()); // => 1,,3\n",
    "\n",
    "let b = [1, null, undefined, 3];\n",
    "\n",
    "console.log(b.join()); // => 1,,,3\n"
   ]
  },
  {
   "cell_type": "code",
   "execution_count": 3,
   "metadata": {},
   "outputs": [
    {
     "name": "stdout",
     "output_type": "stream",
     "text": [
      "1,2,3\n"
     ]
    }
   ],
   "source": [
    "let c = {\n",
    "  length: 3,\n",
    "  0: 1,\n",
    "  1: 2,\n",
    "  2: 3\n",
    "}\n",
    "\n",
    "console.log(Array.prototype.join.call(c)) // => 1,2,3"
   ]
  },
  {
   "cell_type": "code",
   "execution_count": 4,
   "metadata": {},
   "outputs": [
    {
     "name": "stdout",
     "output_type": "stream",
     "text": [
      "1+2+3\n"
     ]
    }
   ],
   "source": [
    "let d = [1, 2, 3];\n",
    "\n",
    "d.join = function () {\n",
    "  return '1+2+3';\n",
    "};\n",
    "/* 影响力 toString() 的行为 */\n",
    "console.log(d.toString());\n"
   ]
  },
  {
   "cell_type": "markdown",
   "metadata": {},
   "source": [
    "## entries()\n",
    "\n",
    "返回一个包含 key/value 键值对的数组的迭代器\n",
    "\n",
    "**注意:**\n",
    "\n",
    "- 对于稀疏数组, 空值会返回 `undefined`.\n",
    "- 对于`undefined` 和 `null` 会原样返回\n",
    "- 这个方法时通用的, 只需要对象拥有`length`属性\n"
   ]
  },
  {
   "cell_type": "code",
   "execution_count": 5,
   "metadata": {},
   "outputs": [
    {
     "name": "stdout",
     "output_type": "stream",
     "text": [
      "key:  0  val:  1\n",
      "key:  1  val:  undefined\n",
      "key:  2  val:  3\n",
      "key:  3  val:  undefined\n",
      "key:  4  val:  null\n",
      "key:  5  val:  6\n"
     ]
    }
   ],
   "source": [
    "let f = [1, , 3, undefined, null, 6];\n",
    "\n",
    "for (const [key, val] of f.entries()) {\n",
    "  console.log('key: ', key, ' val: ', val);\n",
    "}\n"
   ]
  }
 ],
 "metadata": {
  "kernelspec": {
   "display_name": "JavaScript",
   "language": "javascript",
   "name": "jslab"
  },
  "language_info": {
   "file_extension": ".js",
   "mimetype": "text/javascript",
   "name": "javascript",
   "version": ""
  },
  "orig_nbformat": 4
 },
 "nbformat": 4,
 "nbformat_minor": 2
}
