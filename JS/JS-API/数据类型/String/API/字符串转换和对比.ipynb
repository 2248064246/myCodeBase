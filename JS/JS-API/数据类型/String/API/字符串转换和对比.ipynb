{
 "cells": [
  {
   "cell_type": "markdown",
   "metadata": {},
   "source": [
    "# 字符串转换和对比\n",
    "\n",
    "+ toLowerCase()\n",
    "+ toUpperCase()\n",
    "+ localeCompare()\n"
   ]
  },
  {
   "cell_type": "markdown",
   "metadata": {},
   "source": [
    "## String.prototype.localeCompare()\n",
    "\n",
    "判断当前字符和给定字符的大小关系\n",
    "\n",
    "如果当前字符在给定字符之前则为`负数`, 在后面则为`正数`, 相等返回`0`\n",
    "\n",
    "> 可以使用此方法实现中文名称按拼音排序\n"
   ]
  },
  {
   "cell_type": "code",
   "execution_count": 1,
   "metadata": {},
   "outputs": [
    {
     "data": {
      "text/plain": [
       "[\n",
       "  '曹操',   '黄帝',\n",
       "  '李白',   '刘备',\n",
       "  '司马懿', '钟馗',\n",
       "  '诸葛亮'\n",
       "]"
      ]
     },
     "execution_count": 1,
     "metadata": {},
     "output_type": "execute_result"
    }
   ],
   "source": [
    "/**\n",
    " *\n",
    " * @param {Array} arr\n",
    " */\n",
    "function sortByName(arr) {\n",
    "  return arr.sort((a, b) => a.localeCompare(b));\n",
    "}\n",
    "\n",
    "arr = ['黄帝', '钟馗', '李白', '诸葛亮', '司马懿', '曹操', '刘备'];\n",
    "\n",
    "sortByName(arr);\n"
   ]
  }
 ],
 "metadata": {
  "kernelspec": {
   "display_name": "JavaScript (Node.js)",
   "language": "javascript",
   "name": "javascript"
  },
  "language_info": {
   "file_extension": ".js",
   "mimetype": "application/javascript",
   "name": "javascript",
   "version": "16.10.0"
  },
  "orig_nbformat": 4
 },
 "nbformat": 4,
 "nbformat_minor": 2
}
