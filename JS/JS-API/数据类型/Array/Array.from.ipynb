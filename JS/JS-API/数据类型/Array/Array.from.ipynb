{
 "cells": [
  {
   "cell_type": "markdown",
   "metadata": {},
   "source": [
    "## **Array.from()**\n",
    "\n",
    "从一个可迭代对象或类数组中创建新数组\n",
    "\n",
    "**语法**\n",
    "\n",
    "**`Array.from(arrayLike|iterator [, mapFn])`**\n",
    "\n",
    "可以增加一个`map`函数, 来对生成的数组做一次处理. 等同于 `Array.from().map()`"
   ]
  },
  {
   "cell_type": "code",
   "execution_count": 5,
   "metadata": {},
   "outputs": [
    {
     "name": "stdout",
     "output_type": "stream",
     "text": [
      "[ 1, 4, 9, 16 ]\n"
     ]
    }
   ],
   "source": [
    "console.log(Array.from('1234', (x) => Number(x) * Number(x)));\n",
    "// => [1, 4, 9, 16]"
   ]
  },
  {
   "cell_type": "markdown",
   "metadata": {},
   "source": [
    "Array.from 一个好玩的应用--序列生成器"
   ]
  },
  {
   "cell_type": "code",
   "execution_count": 6,
   "metadata": {},
   "outputs": [
    {
     "name": "stdout",
     "output_type": "stream",
     "text": [
      "[ 0, 2, 4, 6, 8, 10 ]\n",
      "[\n",
      "  'A', 'B', 'C', 'D', 'E', 'F',\n",
      "  'G', 'H', 'I', 'J', 'K', 'L',\n",
      "  'M', 'N', 'O', 'P', 'Q', 'R',\n",
      "  'S', 'T', 'U', 'V', 'W', 'X',\n",
      "  'Y', 'Z'\n",
      "]\n"
     ]
    }
   ],
   "source": [
    "const range = (start, stop, step) =>\n",
    "  Array.from({ length: (stop - start) / step + 1 }, (v, k) => start + k * step);\n",
    "\n",
    "console.log(range(0, 10, 2)); // => [0,2,4,6,8,10]\n",
    "\n",
    "// amazing\n",
    "let letters = range('A'.charCodeAt(0), 'Z'.charCodeAt(0), 1).map((s) =>\n",
    "  String.fromCharCode(s)\n",
    ");\n",
    "\n",
    "console.log(letters);\n"
   ]
  },
  {
   "cell_type": "markdown",
   "metadata": {},
   "source": [
    "可以通过 `call, apply` 等方法来改变 Array.from 的内部构造器, 改变其返回值类型"
   ]
  },
  {
   "cell_type": "code",
   "execution_count": 7,
   "metadata": {},
   "outputs": [
    {
     "name": "stdout",
     "output_type": "stream",
     "text": [
      "NotArray { '0': 'foo', '1': 'bar', length: 2 }\n"
     ]
    }
   ],
   "source": [
    "function NotArray(length) {}\n",
    "\n",
    "Array.from.call(NotArray, new Set(['foo', 'bar']));\n",
    "// => NotArray {0: 'foo', 1: 'bar', length: 2}"
   ]
  }
 ],
 "metadata": {
  "kernelspec": {
   "display_name": "JavaScript",
   "language": "javascript",
   "name": "jslab"
  },
  "language_info": {
   "file_extension": ".js",
   "mimetype": "text/javascript",
   "name": "javascript",
   "version": ""
  },
  "orig_nbformat": 4
 },
 "nbformat": 4,
 "nbformat_minor": 2
}
