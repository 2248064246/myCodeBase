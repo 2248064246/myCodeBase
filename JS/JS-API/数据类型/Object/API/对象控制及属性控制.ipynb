{
 "cells": [
  {
   "cell_type": "markdown",
   "metadata": {},
   "source": [
    "# 对象控制及属性空值\n",
    "\n",
    "+ defineProperty()\n",
    "+ defineProperties()\n",
    "+ preventExtensions()\n",
    "+ seal()\n",
    "+ freeze()\n",
    "+ setPrototypeOf()\n",
    "+ getPrototypeOf()\n",
    "+ isSealed()\n",
    "+ isFrozen()\n",
    "+ isExtensible()\n",
    "+ getOwnPropertyNames()\n",
    "+ getOwnPropertySymbols()\n",
    "+ hasOwnProperty()\n",
    "+ isPrototypeOf()\n",
    "+ hasOwn()\n",
    "+ propertyIsEnumerable()"
   ]
  },
  {
   "cell_type": "markdown",
   "metadata": {},
   "source": [
    "## Object.defineProperty()\n",
    "\n",
    "用于直接在对象上新增属性或者直接修改对象的属性.\n",
    "\n",
    "**此方法不会取查找原型链上是否存在同名属性, 这是和用 `=` 创建对象属性或修改对象属性最大的不同点**\n",
    "\n",
    "**注意一下事项:**\n",
    "\n",
    "- 如果属性已经存在, 此方法会尝试通过`descriptor`中提供的`value` 值去修改原来的值(需要原属性可配置)\n",
    "\n",
    "- 如果原属性`configurable`为`false`, 此方法将无法更改任何配置.\n",
    "\n",
    "\n",
    "- 对于 `witable: true` 的属性, 允许修改`value` 和 `witable`值\n",
    "- 如果对象可配置, 给配置项定义`undefined`可以有效删除配置.\n",
    "- 如果属性提供了`value`或`wirtable`, 则不能在设置`get`和`set`\n",
    "- 通过此方法定义的属性, 默认情况下 `enumerable`为`false`\n",
    "- 此方法可以用于定义 `symbol`属性\n"
   ]
  },
  {
   "cell_type": "markdown",
   "metadata": {},
   "source": [
    "## Object.seal() 和 Object.freeze() 的区别\n",
    "\n",
    "**Object.seal()**\n",
    "\n",
    "密封一个对象(只包含对象自身属性), 返回被密封对象(源对象的引用)\n",
    "\n",
    "- 阻止新增并且将原有属性都改为不可配置\n",
    "- 如果原有属性是可写的, 那么依旧可以被改变\n",
    "- 不会影响从原型继承的属性. 但`__proto__`不允许被修改\n",
    "\n",
    "> 属性不可配置的效果就是属性变的不可删除，以及一个数据属性不能被重新定义成为访问器属性，或者反之。但属性的值仍然可以修改.\n",
    "\n",
    "**注意:**\n",
    "如果密封一个原始值, 将原样返回\n",
    "\n",
    "\n",
    "**Object.freeze()**\n",
    "\n",
    "冻结一个对象(只包含对象自身属性), 返回被冻结的对象(源对象的引用)\n",
    "\n",
    "+ 不能被修改\n",
    "+ 不能新增\n",
    "+ 不能删除\n",
    "+ 不可配置\n",
    "+ 不会影响从原型继承的属性. 但`__proto__`不允许被修改"
   ]
  },
  {
   "cell_type": "markdown",
   "metadata": {},
   "source": [
    "## Object.hasOwn() 和 Object.prototype.hasOwnProperty()\n",
    "\n",
    "`hasOwn()` 旨在替代`hasOwnProperty()`, 因为它适用于`Object.create(null)`创建的对象以及覆盖了继承`hasOwnProperty()`方法的对象\n",
    "\n",
    "尽管可以通过 `Object.prototype.hasOwnProperty.call()` 来调用, 但是使用`Object.hasOwn()` 更加直观"
   ]
  },
  {
   "cell_type": "markdown",
   "metadata": {},
   "source": [
    "## Object.prototype.propertyIsEnumerable()\n",
    "\n",
    "判断自身属性是否可以被枚举(原型链上的属性除外)\n",
    "\n",
    "如果没有指定的属性, 返回 `false`"
   ]
  }
 ],
 "metadata": {
  "kernelspec": {
   "display_name": "JavaScript",
   "language": "javascript",
   "name": "jslab"
  },
  "language_info": {
   "file_extension": ".js",
   "mimetype": "text/javascript",
   "name": "javascript",
   "version": ""
  },
  "orig_nbformat": 4
 },
 "nbformat": 4,
 "nbformat_minor": 2
}
