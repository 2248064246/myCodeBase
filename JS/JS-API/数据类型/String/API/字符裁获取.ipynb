{
 "cells": [
  {
   "cell_type": "markdown",
   "metadata": {},
   "source": [
    "# 字符获取\n",
    "\n",
    "+ substr()\n",
    "+ sbustring()\n",
    "+ slice()"
   ]
  },
  {
   "cell_type": "markdown",
   "metadata": {},
   "source": [
    "## String.prototype.substr()\n",
    "\n",
    "获取指定长度的字符串, 返回一个新字符串\n",
    "\n",
    "> 注意: 这个方法不在推荐使用\n",
    "\n",
    "\n",
    "**语法**\n",
    "\n",
    "```js\n",
    "  String.prototyep.substr(start[, len]);\n",
    "```\n",
    "\n",
    "+ `start` 开始位置\n",
    "  + `start > str.length` 返回一个空字符\n",
    "  + `start < 0` 计算规则 `max(str.length + start, 0)` (如果 start 绝对值大于字符串长度, 将从0开始)\n",
    "  + 默认是 `0`, 写入`undefined` 也是 `0`\n",
    "+ `len` 裁剪长度\n",
    "  + 如果没有填写, 或为`undefined`, 或者 `start + len > str.length`, 则获取到字符串的末尾\n",
    "  + `len < 0`, 返回空字符\n"
   ]
  },
  {
   "cell_type": "code",
   "execution_count": 4,
   "metadata": {},
   "outputs": [
    {
     "name": "stdout",
     "output_type": "stream",
     "text": [
      "hello world\n",
      "ello world\n",
      "hello\n",
      "world\n",
      "\n",
      "\n"
     ]
    }
   ],
   "source": [
    "let s = 'hello world';\n",
    "\n",
    "console.log(s.substr(undefined))\n",
    "\n",
    "console.log(s.substr(1)); \n",
    "\n",
    "console.log(s.substr(0, 5)); // => hello\n",
    "\n",
    "console.log(s.substr(-5)); // => world\n",
    "\n",
    "console.log(s.substr(15)); // => ''\n",
    "\n",
    "console.log(s.substr(0, -1)); // => ''\n"
   ]
  },
  {
   "cell_type": "markdown",
   "metadata": {},
   "source": [
    "## String.prototype.substring()\n",
    "\n",
    "获取指定为位置的字符串\n",
    "\n",
    "**语法:**\n",
    "```js\n",
    "  String.prototype.substring(start[, end])\n",
    "```\n",
    "\n",
    "> 从 start 开始, 不包含 end\n",
    "\n",
    "+ 如果 `start` 等于 `end`, 则返回空字符\n",
    "+ 如果 `start` 大于 `end`, 则交换两个参数(两者对调)\n",
    "+ 如果 `end` 没有输入, 则获取到字符串末尾\n",
    "\n",
    "**注意:**\n",
    "+ `start` `end` 如果小于`0`或者大于`str.length`, 将会被当`0`和`str.length` 来看待\n",
    "+ 输入`NaN` 会被当作 `0` 来处理"
   ]
  },
  {
   "cell_type": "code",
   "execution_count": 7,
   "metadata": {},
   "outputs": [
    {
     "name": "stdout",
     "output_type": "stream",
     "text": [
      "wor\n",
      "hell world\n"
     ]
    }
   ],
   "source": [
    "let b = 'hell world';\n",
    "\n",
    "console.log(b.substring(8, 5)); // => wor\n",
    "\n",
    "console.log(b.substring(-1, 100)); // => hell world\n"
   ]
  },
  {
   "cell_type": "markdown",
   "metadata": {},
   "source": [
    "##  String.prototype.slice()\n",
    "\n",
    "获取指定位置的字符串\n",
    "\n",
    "**语法**\n",
    "\n",
    "```js\n",
    "  String.prototype.slice([start[,end]])\n",
    "```\n",
    "\n",
    "+ 如果 `start >= end` 返回空字符\n",
    "+ `start` 和 `end` 小于0, 按照`max(start|end + str.length, 0)` 来计算\n",
    "+ `start>str.length` 返回空字符\n",
    "+ `start` 默认0, 如果填入`undefiend`, `无法被Number()的值` 会转为 0\n",
    "+ `end` 没有填写会默认获取到字符串末尾\n",
    "\n",
    "\n"
   ]
  }
 ],
 "metadata": {
  "kernelspec": {
   "display_name": "JavaScript",
   "language": "javascript",
   "name": "jslab"
  },
  "language_info": {
   "file_extension": ".js",
   "mimetype": "text/javascript",
   "name": "javascript",
   "version": ""
  },
  "orig_nbformat": 4
 },
 "nbformat": 4,
 "nbformat_minor": 2
}
