{
 "cells": [
  {
   "cell_type": "markdown",
   "metadata": {},
   "source": [
    "# 对象控制及属性空值\n",
    "\n",
    "+ defineProperty()\n",
    "+ defineProperties()\n",
    "+ preventExtensions()\n",
    "+ seal()\n",
    "+ freeze()\n",
    "+ setPrototypeOf()\n",
    "+ getPrototypeOf()\n",
    "+ isSealed()\n",
    "+ isFrozen()\n",
    "+ isExtensible()\n",
    "+ getOwnPropertyNames()\n",
    "+ getOwnPropertySymbols()\n",
    "+ hasOwnProperty()\n",
    "+ isPrototypeOf()"
   ]
  },
  {
   "cell_type": "markdown",
   "metadata": {},
   "source": [
    "## Object.defineProperty()\n",
    "\n",
    "用于直接在对象上新增属性或者直接修改对象的属性.\n",
    "\n",
    "**此方法不会取查找原型链上是否存在同名属性, 这是和用 `=` 创建对象属性或修改对象属性最大的不同点**\n",
    "\n",
    "**注意一下事项:**\n",
    "\n",
    "- 如果属性已经存在, 此方法会尝试通过`descriptor`中提供的`value` 值去修改原来的值(需要原属性可配置)\n",
    "\n",
    "- 如果原属性`configurable`为`false`, 此方法将无法更改任何配置.\n",
    "\n",
    "\n",
    "- 对于 `witable: true` 的属性, 允许修改`value` 和 `witable`值\n",
    "- 如果对象可配置, 给配置项定义`undefined`可以有效删除配置.\n",
    "- 如果属性提供了`value`或`wirtable`, 则不能在设置`get`和`set`\n",
    "- 通过此方法定义的属性, 默认情况下 `enumerable`为`false`\n",
    "- 此方法可以用于定义 `symbol`属性\n"
   ]
  }
 ],
 "metadata": {
  "kernelspec": {
   "display_name": "JavaScript",
   "language": "javascript",
   "name": "jslab"
  },
  "language_info": {
   "file_extension": ".js",
   "mimetype": "text/javascript",
   "name": "javascript",
   "version": ""
  },
  "orig_nbformat": 4
 },
 "nbformat": 4,
 "nbformat_minor": 2
}
