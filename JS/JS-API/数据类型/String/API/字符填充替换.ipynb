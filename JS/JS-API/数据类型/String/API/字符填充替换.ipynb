{
 "cells": [
  {
   "cell_type": "markdown",
   "metadata": {},
   "source": [
    "# 字符填充替换\n",
    "\n",
    "+ padStart()\n",
    "+ padEnd()\n",
    "+ replace()\n",
    "+ replaceAll()"
   ]
  },
  {
   "cell_type": "markdown",
   "metadata": {},
   "source": [
    "## String.prototype.padStart()\n",
    "\n",
    "向字符串前面填充指定字符\n",
    "\n",
    "**语法:**\n",
    "```js\n",
    "  String.prototype.padStart(strLen[, padStr])\n",
    "```\n",
    "\n",
    "+ `strLen` 填充后字符串长度. 如果小于原字符串长度, 则返回原字符串\n",
    "+ `padStr` 要填充的字符串\n",
    "\n",
    "\n",
    "## String.prototype.padEnd()\n",
    "\n",
    "向字符串后面填充指定字符\n",
    "\n",
    "**语法:**\n",
    "```js\n",
    "  String.prototype.padEnd(strLen[, padStr])\n",
    "```"
   ]
  },
  {
   "cell_type": "code",
   "execution_count": 3,
   "metadata": {},
   "outputs": [
    {
     "name": "stdout",
     "output_type": "stream",
     "text": [
      "000123\n",
      "123xxx\n",
      "123\n",
      "123456\n"
     ]
    }
   ],
   "source": [
    "str = '123';\n",
    "\n",
    "console.log(str.padStart(6, '0')); // => 000123\n",
    "\n",
    "console.log(str.padEnd(6, 'x')); // => 123xxx\n",
    "\n",
    "// 返回原字符串\n",
    "console.log(str.padEnd(1));\n",
    "\n",
    "// 只会填充指定长度\n",
    "console.log(str.padEnd(6, '456789')); // => 123456\n"
   ]
  },
  {
   "cell_type": "markdown",
   "metadata": {},
   "source": [
    "## String.prototype.replace()\n",
    "\n",
    "使用新的字符串替换指定字符串\n",
    "\n",
    "**语法:**\n",
    "\n",
    "```js\n",
    "  String.prototype.replace(pattern, replacement)\n",
    "```\n",
    "\n",
    "`pattern`\n",
    "  \n",
    "  可以是一个字符串或者带有`Symbol.replace` 方法的对象--最典型的就是正则表达式. 没有`Symbol.replace` 方法的对象会被转为字符串\n",
    "\n",
    "`replacement`\n",
    "\n",
    "  可以是一个字符串或一个方法\n",
    "    + 如果是字符串, 将会替代 `pattern` 匹配到的字符串\n",
    "    + 如果是一个方法, 它将在每次匹配时被调用，它的返回值将用作替换文本\n",
    "\n",
    "\n",
    "**函数情况**\n",
    "\n",
    "参数:\n",
    "\n",
    "+ `match` 匹配的子串(对于整个正则而言)\n",
    "+ `p1,p2...` 括号匹配的字符串\n",
    "+ `offset` 匹配到的子字符串在原字符串中的偏移量\n",
    "+ `string` 匹配的原字符串\n",
    "\n"
   ]
  },
  {
   "cell_type": "code",
   "execution_count": 4,
   "metadata": {},
   "outputs": [
    {
     "name": "stdout",
     "output_type": "stream",
     "text": [
      "abc12345#$*% abc 12345 #$*% 0\n",
      "abc - 12345 - #$*%\n"
     ]
    }
   ],
   "source": [
    "function replacer(match, p1, p2, p3, offset, string) {\n",
    "  // p1 is nondigits, p2 digits, and p3 non-alphanumerics\n",
    "  console.log(match, p1, p2, p3, offset)\n",
    "  return [p1, p2, p3].join(' - ');\n",
    "}\n",
    "var newString = 'abc12345#$*%'.replace(/([^\\d]*)(\\d*)([^\\w]*)/, replacer);\n",
    "console.log(newString);  // abc - 12345 - #$*%\n"
   ]
  },
  {
   "cell_type": "markdown",
   "metadata": {},
   "source": [
    "正则表达式使用 `g` 来实现全部替换"
   ]
  },
  {
   "cell_type": "code",
   "execution_count": 5,
   "metadata": {},
   "outputs": [
    {
     "data": {
      "text/plain": [
       "'bbbccc'"
      ]
     },
     "execution_count": 5,
     "metadata": {},
     "output_type": "execute_result"
    }
   ],
   "source": [
    "str = 'aaaccc'\n",
    "\n",
    "str.replace(/a/g, 'b');"
   ]
  },
  {
   "cell_type": "markdown",
   "metadata": {},
   "source": [
    "**字符中使用特殊符号**\n",
    "\n",
    "+ `$$` 表示插入 `$`\n",
    "+ `$&` 插入匹配的子串\n",
    "+ `$n` 表示第n个括号匹配的字符串\n",
    "+ `$<name>` `name`是分组名称, 表示插入匹配到的分组字符串\n"
   ]
  },
  {
   "cell_type": "markdown",
   "metadata": {},
   "source": [
    "交换字符串的两个单词"
   ]
  },
  {
   "cell_type": "code",
   "execution_count": 8,
   "metadata": {},
   "outputs": [
    {
     "data": {
      "text/plain": [
       "'Tome Jony'"
      ]
     },
     "execution_count": 8,
     "metadata": {},
     "output_type": "execute_result"
    }
   ],
   "source": [
    "re = /(\\w+)\\s(\\w+)/;\n",
    "str = 'Jony Tome';\n",
    "\n",
    "str.replace(re, '$2 $1'); // => Tome Jony\n"
   ]
  },
  {
   "cell_type": "markdown",
   "metadata": {},
   "source": [
    "驼峰转连字"
   ]
  },
  {
   "cell_type": "code",
   "execution_count": 10,
   "metadata": {},
   "outputs": [
    {
     "data": {
      "text/plain": [
       "'hell-world'"
      ]
     },
     "execution_count": 10,
     "metadata": {},
     "output_type": "execute_result"
    }
   ],
   "source": [
    "function camcel2Kebab(str) {\n",
    "  let re = /[A-Z]/g;\n",
    "  function handler(match) {\n",
    "    return `-${match.toLowerCase()}`;\n",
    "  }\n",
    "\n",
    "  return str.replace(re, handler);\n",
    "}\n",
    "\n",
    "camcel2Kebab('hellWorld')"
   ]
  },
  {
   "cell_type": "markdown",
   "metadata": {},
   "source": [
    "华氏度转摄氏度"
   ]
  },
  {
   "cell_type": "code",
   "execution_count": 12,
   "metadata": {},
   "outputs": [
    {
     "data": {
      "text/plain": [
       "'37.8C'"
      ]
     },
     "execution_count": 12,
     "metadata": {},
     "output_type": "execute_result"
    }
   ],
   "source": [
    "function f2c(x) {\n",
    "  function convert(str, p1, offset, s) {\n",
    "    return (((p1 - 32) * 5) / 9).toFixed(1) + 'C';\n",
    "  }\n",
    "  var s = String(x);\n",
    "  var test = /(\\d+(?:\\.\\d*)?)F\\b/g;\n",
    "  return s.replace(test, convert);\n",
    "}\n",
    "\n",
    "f2c('100F');\n"
   ]
  },
  {
   "cell_type": "markdown",
   "metadata": {},
   "source": [
    "## String.prototype.replaceAll()\n",
    "\n",
    "参数和 `replace()` 一致\n",
    "\n",
    "**不同点：**\n",
    "\n",
    "+ `replaceAll()` 使用正则时必须带有 `g` 标记"
   ]
  }
 ],
 "metadata": {
  "kernelspec": {
   "display_name": "JavaScript (Node.js)",
   "language": "javascript",
   "name": "javascript"
  },
  "language_info": {
   "file_extension": ".js",
   "mimetype": "application/javascript",
   "name": "javascript",
   "version": "16.10.0"
  },
  "orig_nbformat": 4
 },
 "nbformat": 4,
 "nbformat_minor": 2
}
