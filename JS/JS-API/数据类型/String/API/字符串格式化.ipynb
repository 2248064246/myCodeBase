{
 "cells": [
  {
   "cell_type": "markdown",
   "metadata": {},
   "source": [
    "# 字符串格式化\n",
    "\n",
    "+ trim()\n",
    "+ trimStart()\n",
    "+ trimEnd()\n",
    "+ normalize()"
   ]
  },
  {
   "cell_type": "markdown",
   "metadata": {},
   "source": [
    "## String.prototype.trim()\n",
    "\n",
    "删除字符串两端的空白字符(包括 空格, tab, no-break space等)以及所有的行中止符(LF-换行, CR-回车 等)\n"
   ]
  }
 ],
 "metadata": {
  "kernelspec": {
   "display_name": "Python 3 (ipykernel)",
   "language": "python",
   "name": "python3"
  },
  "orig_nbformat": 4
 },
 "nbformat": 4,
 "nbformat_minor": 2
}
