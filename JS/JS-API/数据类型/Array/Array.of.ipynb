{
 "cells": [
  {
   "cell_type": "markdown",
   "metadata": {},
   "source": [
    "## **Array.of()**\n",
    "\n",
    "通过给定的值生成数组\n",
    "\n",
    "**语法**\n",
    "\n",
    "```js\n",
    "Array.of(...elements);\n",
    "```\n",
    "\n",
    "这个方法主要是用来弥补`Array`构造函数的问题的.\n",
    "\n",
    "通过`new Array()`来生成新数组有时候让人困惑.(因为参数有点复杂)"
   ]
  },
  {
   "cell_type": "code",
   "execution_count": 8,
   "metadata": {},
   "outputs": [
    {
     "name": "stdout",
     "output_type": "stream",
     "text": [
      "{ '0': 1, '1': 2, '2': 3, length: 3 }\n"
     ]
    }
   ],
   "source": [
    "/* 快速生成一个类数组 */\n",
    "Array.of.call(function () {}, 1, 2, 3);\n",
    "// => {0: 1, 1: 2, 2: 3, length: 3}"
   ]
  }
 ],
 "metadata": {
  "kernelspec": {
   "display_name": "JavaScript",
   "language": "javascript",
   "name": "jslab"
  },
  "language_info": {
   "file_extension": ".js",
   "mimetype": "text/javascript",
   "name": "javascript",
   "version": ""
  },
  "orig_nbformat": 4
 },
 "nbformat": 4,
 "nbformat_minor": 2
}
