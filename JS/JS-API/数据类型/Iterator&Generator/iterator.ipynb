{
 "cells": [
  {
   "cell_type": "code",
   "execution_count": 1,
   "metadata": {},
   "outputs": [
    {
     "name": "stdout",
     "output_type": "stream",
     "text": [
      "this {\n",
      "  next: [Function: next],\n",
      "  [Symbol(Symbol.iterator)]: [Function: [Symbol.iterator]]\n",
      "}\n"
     ]
    }
   ],
   "source": [
    "function map(iterable, fnc) {\n",
    "  let iteratorFnc = iterable[Symbol.iterator];\n",
    "  if (typeof iteratorFnc !== 'function') {\n",
    "    throw new TypeError(`${iterable} is not iterator`);\n",
    "  }\n",
    "  /* 这里为什么无法直接 iteratorFnc()??? 可能是应为this的原因, 直接调用this是window */\n",
    "  let iterator = iteratorFnc.bind(iterable)();\n",
    "  return {\n",
    "    next() {\n",
    "      let n = iterator.next();\n",
    "      if (n.done) {\n",
    "        return n;\n",
    "      } else {\n",
    "        return {\n",
    "          value: fnc(n.value),\n",
    "          done: false,\n",
    "        };\n",
    "      }\n",
    "    },\n",
    "    [Symbol.iterator]() {\n",
    "      console.log('this', this)\n",
    "      return this;\n",
    "    },\n",
    "  };\n",
    "}\n",
    "\n",
    "let a = '123';\n",
    "\n",
    "let b = [...map(a, (v) => v ** v)];"
   ]
  }
 ],
 "metadata": {
  "kernelspec": {
   "display_name": "JavaScript (Node.js)",
   "language": "javascript",
   "name": "javascript"
  },
  "language_info": {
   "file_extension": ".js",
   "mimetype": "application/javascript",
   "name": "javascript",
   "version": "16.10.0"
  },
  "orig_nbformat": 4
 },
 "nbformat": 4,
 "nbformat_minor": 2
}
