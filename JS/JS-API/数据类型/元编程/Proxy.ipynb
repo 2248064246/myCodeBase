{
 "cells": [
  {
   "cell_type": "code",
   "execution_count": 1,
   "metadata": {},
   "outputs": [
    {
     "name": "stdout",
     "output_type": "stream",
     "text": [
      "Handler get(data, map)\n",
      "Handler get(data, length)\n",
      "Handler get(data, constructor)\n",
      "Handler has(data, 0)\n",
      "Handler get(data, 0)\n",
      "Handler has(data, 1)\n",
      "Handler get(data, 1)\n",
      "Handler get(methods, square)\n",
      "Handler methods.square([10,0,[10,20]])\n",
      "Handler methods.square([20,1,[10,20]])\n",
      "Handler get(data, Symbol(Symbol.iterator))\n",
      "Handler get(data, length)\n",
      "Handler get(data, 0)\n",
      "data 10\n",
      "Handler get(data, length)\n",
      "Handler get(data, 1)\n",
      "data 20\n",
      "Handler get(data, length)\n"
     ]
    }
   ],
   "source": [
    "function loggingProxy(o, objName) {\n",
    "  const handler = {\n",
    "    get(o, name, receiver) {\n",
    "      console.log(`Handler get(${objName}, ${name.toString()})`)\n",
    "      let value = Reflect.get(o, name, receiver)\n",
    "      // 如果属性是目标的自由属性, 而且值为对象或函数, 则返回这个值的代理\n",
    "      if(Reflect.ownKeys(o).includes(name) && \n",
    "      (typeof value == 'object' || typeof value == 'function')) {\n",
    "        return loggingProxy(value, `${objName}.${name.toString()}`)\n",
    "      }\n",
    "      // 否则原封不动返回值\n",
    "      return value\n",
    "    },\n",
    "    set(o, name, value, receiver) {\n",
    "      console.log(`Handler set(${objName}, ${name.toString()}, ${value})`)\n",
    "      return Reflect.set(o, name, value, receiver)\n",
    "    },\n",
    "    apply(target, thisArgs, args) {\n",
    "      console.log(`Handler ${objName}(${JSON.stringify(args)})`)\n",
    "      return Reflect.apply(target, thisArgs, args)\n",
    "    },\n",
    "    construct(target, argsList, newTarget) {\n",
    "      console.log(`Handler construct(${target}, ${argsList})`)\n",
    "      return Reflect.construct(target, argsList, newTarget)\n",
    "    }\n",
    "  }\n",
    "\n",
    "  /* 可以通过反射API直接生成, 应为属性名字是对应的 */\n",
    "  Reflect.ownKeys(Reflect).forEach(handlerName => {\n",
    "    if(!(handlerName in handler)) {\n",
    "      handler[handlerName] = function(target, ...args) {\n",
    "        console.log(`Handler ${handlerName}(${objName}, ${args})`)\n",
    "        return Reflect[handlerName](target, ...args)\n",
    "      }\n",
    "    }\n",
    "  })\n",
    "\n",
    "  return new Proxy(o, handler)\n",
    "}\n",
    "\n",
    "// 这个方法可以让我看到所有API方法处理数据的过程\n",
    "let data = [10, 20]\n",
    "let methods = {square(x) { return x*x} }\n",
    "\n",
    "let proxyData = loggingProxy(data, 'data')\n",
    "let proxyMethods = loggingProxy(methods, 'methods')\n",
    "\n",
    "/* 这里可以看到 map 方法执行过程 */\n",
    "proxyData.map(methods.square)\n",
    "\n",
    "/* 这里可以看到 square 方法执行的过程 */\n",
    "data.map(proxyMethods.square) \n",
    "\n",
    "/* 这里可以看到迭代过程 */\n",
    "for(let x of proxyData) console.log('data', x)"
   ]
  }
 ],
 "metadata": {
  "kernelspec": {
   "display_name": "JavaScript (Node.js)",
   "language": "javascript",
   "name": "javascript"
  },
  "language_info": {
   "file_extension": ".js",
   "mimetype": "application/javascript",
   "name": "javascript",
   "version": "16.10.0"
  },
  "orig_nbformat": 4
 },
 "nbformat": 4,
 "nbformat_minor": 2
}
