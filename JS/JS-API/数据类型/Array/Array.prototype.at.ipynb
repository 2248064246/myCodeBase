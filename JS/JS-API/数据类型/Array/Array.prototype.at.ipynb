{
 "cells": [
  {
   "cell_type": "markdown",
   "metadata": {},
   "source": [
    "## **Array.prototype.at()**\n",
    "\n",
    "获取指定索引位置的元素\n",
    "\n",
    "**语法**\n",
    "\n",
    "```ts\n",
    "Array.prototype.at(idx);\n",
    "```\n",
    "\n",
    "`idx` 允许负值. 当`idx`小于 0 时, 将访问索引`index + array.length`.\n",
    "\n",
    "`idx` 小于 0, 且绝对值大于`array.length`时, 不会从索引`0`开始.\n",
    "\n",
    "`at()` 方法是通用的, 可以用于`类数组`. (其仅期望 this 具有 length 属性和以整数为键的属性。)"
   ]
  },
  {
   "cell_type": "code",
   "execution_count": 1,
   "metadata": {},
   "outputs": [
    {
     "name": "stderr",
     "output_type": "stream",
     "text": [
      "4:17 - Property 'at' does not exist on type 'any[]'.\n",
      "5:17 - Property 'at' does not exist on type 'any[]'.\n",
      "10:17 - Property 'at' does not exist on type 'any[]'.\n"
     ]
    }
   ],
   "source": [
    "let a = {0: 0, 1: 1, 3: 3, length: 3}\n",
    "\n",
    "// 需要注意 idx 和 length 相关, 超出 length 不会获取\n",
    "Array.prototype.at.call(a, 2) // => undefined\n",
    "Array.prototype.at.call(a, 3) // => undefined\n",
    "\n",
    "// 如果增加 length\n",
    "a.length = 4;\n",
    "// 现在能够获取到对应数据\n",
    "Array.prototype.at.call(a, 3) // => 3"
   ]
  }
 ],
 "metadata": {
  "kernelspec": {
   "display_name": "JavaScript",
   "language": "javascript",
   "name": "jslab"
  },
  "language_info": {
   "file_extension": ".js",
   "mimetype": "text/javascript",
   "name": "javascript",
   "version": ""
  },
  "orig_nbformat": 4
 },
 "nbformat": 4,
 "nbformat_minor": 2
}
