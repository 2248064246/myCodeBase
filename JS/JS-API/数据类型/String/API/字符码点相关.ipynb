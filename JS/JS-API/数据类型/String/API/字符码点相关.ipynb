{
 "cells": [
  {
   "cell_type": "markdown",
   "metadata": {},
   "source": [
    "# 字符码点相关\n",
    "\n",
    "+ charCodeAt()\n",
    "+ charPointAt()\n",
    "+ fromCharCode()\n",
    "+ fromCodePoint()\n",
    "\n"
   ]
  },
  {
   "cell_type": "markdown",
   "metadata": {},
   "source": [
    "## String.prototype.charCodeAt()\n",
    "\n",
    "返回 `0 ~ 65535` 之间的整数, 表示给定索引处的 `UTF-16`代码单元\n",
    "\n",
    "如果 Unicode 码点不能用一个 UTF-16 编码单元表示（因为它的值大于 0xFFFF），则所返回的编码单元会是这个码点代理对的第一个编码单元)\n",
    "\n",
    "\n",
    "## String.fromCharCode()\n",
    "\n",
    "返回`UTF-16`编码单元所代表的字符(输入值在 `0~65535`之间)\n",
    "\n",
    "**语法:**\n",
    "\n",
    "```js\n",
    "  String.fromCharCode(num1[,...numN])\n",
    "```\n",
    "\n",
    "`num` 可以是十进制数, 也可以是十六进制数\n",
    "\n",
    "如果需要返回的字符不在`第一平面(BMP)`上, 需要完整写入两个`UTF-16`单元所表示的代理对\n"
   ]
  },
  {
   "cell_type": "code",
   "execution_count": 5,
   "metadata": {},
   "outputs": [
    {
     "data": {
      "text/plain": [
       "'🙃'"
      ]
     },
     "execution_count": 5,
     "metadata": {},
     "output_type": "execute_result"
    }
   ],
   "source": [
    "String.fromCharCode(55357, 56899) // => '🙃'"
   ]
  },
  {
   "cell_type": "markdown",
   "metadata": {},
   "source": [
    "## String.prototype.codePointAt()\n",
    "\n",
    "返回指定索引字符的码点(这个值可能大于 `65535`)\n",
    "\n",
    "\n",
    "## String.fromCodePoint()\n",
    "\n",
    "通过给定码点返回对应字符串\n",
    "\n"
   ]
  },
  {
   "cell_type": "code",
   "execution_count": 6,
   "metadata": {},
   "outputs": [
    {
     "name": "stdout",
     "output_type": "stream",
     "text": [
      "128514\n",
      "😂\n"
     ]
    }
   ],
   "source": [
    "str = '😂';\n",
    "\n",
    "let codePoint = str.codePointAt(0);\n",
    "\n",
    "console.log(codePoint);\n",
    "\n",
    "console.log(String.fromCodePoint(codePoint));\n"
   ]
  },
  {
   "cell_type": "markdown",
   "metadata": {},
   "source": [
    "但是存在一些特殊字符簇, 它的前置代理并不在 `D800-DBFF`之间, 这种情况目前的 `fromCodePoint` 和 `codePointAt` 并不能处理(或者说目前的JS 并没有处理这种情况)"
   ]
  },
  {
   "cell_type": "code",
   "execution_count": 7,
   "metadata": {},
   "outputs": [
    {
     "name": "stdout",
     "output_type": "stream",
     "text": [
      "10084\n",
      "❤\n"
     ]
    }
   ],
   "source": [
    "str = '❤️';\n",
    "\n",
    "codePoint = str.codePointAt(0);\n",
    "\n",
    "console.log(codePoint); // => 10084\n",
    "\n",
    "// 无法还原原本字符\n",
    "console.log(String.fromCodePoint(codePoint)); // => ❤\n"
   ]
  },
  {
   "cell_type": "markdown",
   "metadata": {},
   "source": [
    "## 其他与此相关\n",
    "\n",
    "**for...of 能够正确迭代代理字符串**\n",
    "\n",
    "**Arrar.from() 也能正确识别代理字符串**\n",
    "\n",
    "<mark>但是上述和codePointAt()一样, 都只能识别</mark> `D800-DBFF`的高位代理\n"
   ]
  }
 ],
 "metadata": {
  "kernelspec": {
   "display_name": "JavaScript (Node.js)",
   "language": "javascript",
   "name": "javascript"
  },
  "language_info": {
   "file_extension": ".js",
   "mimetype": "application/javascript",
   "name": "javascript",
   "version": "16.10.0"
  },
  "orig_nbformat": 4
 },
 "nbformat": 4,
 "nbformat_minor": 2
}
